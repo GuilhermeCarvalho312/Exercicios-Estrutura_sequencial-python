{
  "nbformat": 4,
  "nbformat_minor": 0,
  "metadata": {
    "colab": {
      "name": "Exercícios-EstruturaSequencial",
      "provenance": [],
      "authorship_tag": "ABX9TyN7f31rId36LGrxdeAhv+26",
      "include_colab_link": true
    },
    "kernelspec": {
      "name": "python3",
      "display_name": "Python 3"
    }
  },
  "cells": [
    {
      "cell_type": "markdown",
      "metadata": {
        "id": "view-in-github",
        "colab_type": "text"
      },
      "source": [
        "<a href=\"https://colab.research.google.com/github/GuilhermeCarvalho312/Exercicios-Estrutura_sequencial-python/blob/main/Exerc%C3%ADcios_EstruturaSequencial.ipynb\" target=\"_parent\"><img src=\"https://colab.research.google.com/assets/colab-badge.svg\" alt=\"Open In Colab\"/></a>"
      ]
    },
    {
      "cell_type": "code",
      "metadata": {
        "id": "D9fAt0OcbBhZ",
        "outputId": "e7350eb3-71a5-4ffb-a466-531a090c111f",
        "colab": {
          "base_uri": "https://localhost:8080/",
          "height": 33
        }
      },
      "source": [
        "# 1.Faça um Programa que mostre a mensagem \"Alo mundo\" na tela.\n",
        "print('Alo mundo!')"
      ],
      "execution_count": null,
      "outputs": [
        {
          "output_type": "stream",
          "text": [
            "Alo mundo\n"
          ],
          "name": "stdout"
        }
      ]
    },
    {
      "cell_type": "code",
      "metadata": {
        "id": "PDqVgWQxbO8r",
        "outputId": "19971d17-5b62-4a4f-fed4-52d4d75c1b70",
        "colab": {
          "base_uri": "https://localhost:8080/",
          "height": 52
        }
      },
      "source": [
        "# 2.Faça um Programa que peça um número e então mostre a mensagem O número informado foi [número].\n",
        "numero = float(input('Fale um numero '))\n",
        "print(numero)"
      ],
      "execution_count": null,
      "outputs": [
        {
          "output_type": "stream",
          "text": [
            "Fale um numero 50\n",
            "50.0\n"
          ],
          "name": "stdout"
        }
      ]
    },
    {
      "cell_type": "code",
      "metadata": {
        "id": "iI5_-lLab3A0",
        "outputId": "7fe69d68-a4bf-4993-dfc4-b0a4ca34d42a",
        "colab": {
          "base_uri": "https://localhost:8080/",
          "height": 69
        }
      },
      "source": [
        "# 3.Faça um Programa que peça dois números e imprima a soma.\n",
        "x = float(input('Fale um número X: '))\n",
        "y = float(input('Fale um numero Y: '))\n",
        "print('A soma é:', x+y)"
      ],
      "execution_count": null,
      "outputs": [
        {
          "output_type": "stream",
          "text": [
            "Fale um número X: 5\n",
            "Fale um numero Y: 43.2\n",
            "A soma é: 48.2\n"
          ],
          "name": "stdout"
        }
      ]
    },
    {
      "cell_type": "code",
      "metadata": {
        "id": "4xw7PVMkcURd",
        "outputId": "adc19662-798e-4088-e1ac-dba77a6d289f",
        "colab": {
          "base_uri": "https://localhost:8080/"
        }
      },
      "source": [
        "nota_01 = float(input('Digite a nota 1: '))\n",
        "nota_02 = float(input('Digite a nota 2: '))\n",
        "nota_03 = float(input('Digite a nota 3: '))\n",
        "nota_04 = float(input('Digite a nota 4: '))\n",
        "média = (nota_04+nota_03+nota_02+nota_01)/4\n",
        "soma = nota_04+nota_03+nota_02+nota_01\n",
        "print('A soma das notas é: ' + str(soma))\n",
        "print('A sua média é: '+str(média))"
      ],
      "execution_count": null,
      "outputs": [
        {
          "output_type": "stream",
          "text": [
            "Digite a nota 1: 5\n",
            "Digite a nota 2: 4\n",
            "Digite a nota 3: 10\n",
            "Digite a nota 4: 9\n",
            "A soma das notas é: 28.0\n",
            "A sua média é: 7.0\n"
          ],
          "name": "stdout"
        }
      ]
    },
    {
      "cell_type": "code",
      "metadata": {
        "id": "SLd7cSS7d_Ak",
        "outputId": "7bfda9b9-80b4-4591-b172-632d3ec6d7be",
        "colab": {
          "base_uri": "https://localhost:8080/",
          "height": 52
        }
      },
      "source": [
        "# 5.Faça um Programa que converta metros para centímetros.\n",
        "variavel = float(input('Digite um valor em metros: '))\n",
        "conta = variavel*100\n",
        "print('Essa conversão em centímetros é: '+str(conta)+  ' cenímetros')"
      ],
      "execution_count": null,
      "outputs": [
        {
          "output_type": "stream",
          "text": [
            "Digite um valor em metros: 100\n",
            "Essa conversão em centímetros é: 10000.0 cenímetros\n"
          ],
          "name": "stdout"
        }
      ]
    },
    {
      "cell_type": "code",
      "metadata": {
        "id": "C9mKoNjifEsF",
        "outputId": "abed3241-afeb-4a5f-81f5-1f9d8aa14f82",
        "colab": {
          "base_uri": "https://localhost:8080/",
          "height": 50
        }
      },
      "source": [
        "# 6.Faça um Programa que peça o raio de um círculo, calcule e mostre sua área.\n",
        "raio = float(input(' Informe o raio: '))\n",
        "area = 3.14*raio**2\n",
        "print('A area é: '+ str(area))"
      ],
      "execution_count": null,
      "outputs": [
        {
          "output_type": "stream",
          "text": [
            " Informe o raio: 5\n",
            "A area é: 78.5\n"
          ],
          "name": "stdout"
        }
      ]
    },
    {
      "cell_type": "code",
      "metadata": {
        "id": "lNFRPjisgMJ4",
        "outputId": "6316b53b-cf2c-4546-9e3f-cfa2cfd224b4",
        "colab": {
          "base_uri": "https://localhost:8080/",
          "height": 50
        }
      },
      "source": [
        "# 7. Faça um Programa que calcule a área de um quadrado, \n",
        "# em seguida mostre o dobro desta área para o usuário.\n",
        "lado = float(input(' Qual é o lado? '))\n",
        "area = lado*lado\n",
        "dobro = area*2\n",
        "print('O dobro da area é: '+str(dobro))\n"
      ],
      "execution_count": null,
      "outputs": [
        {
          "output_type": "stream",
          "text": [
            " Qual é o lado? 4\n",
            "O dobro da area é: 32.0\n"
          ],
          "name": "stdout"
        }
      ]
    },
    {
      "cell_type": "code",
      "metadata": {
        "id": "x_bNq0FFh4S1",
        "outputId": "c38ed7b7-ad9f-4474-eab4-4035263079df",
        "colab": {
          "base_uri": "https://localhost:8080/",
          "height": 69
        }
      },
      "source": [
        "# 8. Faça um Programa que pergunte quanto você ganha\n",
        "# por hora e o número de horas trabalhadas no mês. \n",
        "# Calcule e mostre o total do seu salário no referido mês.\n",
        "horas = float(input('Quanto você ganha por hora? '))\n",
        "trabalhos = float(input('Quantas horas você trabalhou? '))\n",
        "total = horas*trabalhos\n",
        "print(total)"
      ],
      "execution_count": null,
      "outputs": [
        {
          "output_type": "stream",
          "text": [
            "Quanto você ganha por hora? 50\n",
            "Quantas horas você trabalhou? 230\n",
            "11500.0\n"
          ],
          "name": "stdout"
        }
      ]
    },
    {
      "cell_type": "code",
      "metadata": {
        "id": "OBQREIY8nqtp",
        "outputId": "792d6b27-cd0f-41c7-89be-001eb77ec4a8",
        "colab": {
          "base_uri": "https://localhost:8080/",
          "height": 52
        }
      },
      "source": [
        "# 9. Faça um Programa que peça a temperatura em graus Fahrenheit, \n",
        "# transforme e mostre a temperatura em graus Celsius.\n",
        "# C = 5 * ((F-32) / 9).\n",
        "F = float(input('Qual é a temperatura em Fahrenheit? '))\n",
        "C = 5 * ((F-32) / 9)\n",
        "print(\"A conversão para graus é: \"+ str(C)+ ' C')"
      ],
      "execution_count": null,
      "outputs": [
        {
          "output_type": "stream",
          "text": [
            "Qual é a temperatura em Fahrenheit? 50\n",
            "A conversão para graus é: 10.0 C\n"
          ],
          "name": "stdout"
        }
      ]
    },
    {
      "cell_type": "code",
      "metadata": {
        "id": "-Y14ENNVo_J4",
        "outputId": "9c32c151-4234-44e0-b0b3-d75234217411",
        "colab": {
          "base_uri": "https://localhost:8080/",
          "height": 52
        }
      },
      "source": [
        "# 10. Faça um Programa que peça a temperatura em graus Celsius,\n",
        "# transforme e mostre em graus Fahrenheit.\n",
        "Celsius = float(input('Quantos graus Celsius? '))\n",
        "Fahrenheit = ((Celsius/5)*9)+32\n",
        "print(str(Fahrenheit)+' graus Fahrenheit')"
      ],
      "execution_count": null,
      "outputs": [
        {
          "output_type": "stream",
          "text": [
            "Quantos graus Celsius? 10\n",
            "50.0 graus Fahrenheit\n"
          ],
          "name": "stdout"
        }
      ]
    },
    {
      "cell_type": "code",
      "metadata": {
        "id": "TSlNqsynuPVA",
        "outputId": "3d6d44f4-f216-408c-840f-a6c12c30a1ad",
        "colab": {
          "base_uri": "https://localhost:8080/",
          "height": 121
        }
      },
      "source": [
        "# 11. Faça um Programa que peça 2 números inteiros e um número real. Calcule e mostre:\n",
        "# o produto do dobro do primeiro com metade do segundo .\n",
        "# a soma do triplo do primeiro com o terceiro.\n",
        "# o terceiro elevado ao cubo.\n",
        "a = int(input(\"Informe um número inteiro: \"))\n",
        "b = int(input(\"Informe outro número inteiro: \"))\n",
        "c = float(input(\"Informe um número real: \"))\n",
        "operação = 2*a*(b/2)\n",
        "op_2 = 3*a + c \n",
        "op_3 = c**3\n",
        "print('a)'+ str(operação) )\n",
        "print('  b)'+ str(float(op_2)))\n",
        "print( '   c) ' + str(op_3))"
      ],
      "execution_count": null,
      "outputs": [
        {
          "output_type": "stream",
          "text": [
            "Informe um número inteiro: 2\n",
            "Informe outro número inteiro: 3\n",
            "Informe um número real: 2.02\n",
            "a)6.0\n",
            "  b)8.02\n",
            "   c) 8.242408000000001\n"
          ],
          "name": "stdout"
        }
      ]
    },
    {
      "cell_type": "code",
      "metadata": {
        "id": "pDdQcEzc0KYL",
        "outputId": "a5721d30-1183-4449-f87d-d9df5d74945d",
        "colab": {
          "base_uri": "https://localhost:8080/",
          "height": 52
        }
      },
      "source": [
        "# 12. Tendo como dados de entrada a altura de uma pessoa,\n",
        "# construa um algoritmo que calcule seu peso ideal,\n",
        "# usando a seguinte fórmula: (72.7*altura) - 58\n",
        "altura = float(input('Informe a altura: '))\n",
        "fórmula = (72.7*altura) - 58\n",
        "print('Seu peso idel é: '+ str(fórmula))"
      ],
      "execution_count": null,
      "outputs": [
        {
          "output_type": "stream",
          "text": [
            "Informe a altura: 1.78\n",
            "Seu peso idel é: 71.406\n"
          ],
          "name": "stdout"
        }
      ]
    },
    {
      "cell_type": "code",
      "metadata": {
        "id": "6k-EQigK26XV",
        "outputId": "a54254bd-8839-4a36-9c93-7fef3f0a1413",
        "colab": {
          "base_uri": "https://localhost:8080/",
          "height": 52
        }
      },
      "source": [
        "# 13. João precisa que você faça um programa que leia a variável peso (peso de peixes)\n",
        "# e calcule o excesso. Gravar na variável excesso a quantidade de quilos além do limite \n",
        "#e na variável multa o valor da multa que João deverá pagar. \n",
        "#Imprima os dados do programa com as mensagens adequadas.\n",
        "# 50 quilos deve pagar uma multa de R$ 4,00 por quilo excedente\n",
        "peso = float(input('Informe o peso do peixe: '))\n",
        "excesso = peso - 50 \n",
        "multa = excesso*4.00\n",
        "if excesso == 0: \n",
        "\tprint('Não há multa')\n",
        "else:\n",
        "\t\tprint('A multa é de '+ str(multa) + ' reais')"
      ],
      "execution_count": null,
      "outputs": [
        {
          "output_type": "stream",
          "text": [
            "Informe o peso do peixe: 51\n",
            "A multa é de 4.0 reais\n"
          ],
          "name": "stdout"
        }
      ]
    },
    {
      "cell_type": "code",
      "metadata": {
        "id": "fzOKr5Xk5a2f",
        "outputId": "4eb0ecc0-adce-419f-b819-5ca61b138888",
        "colab": {
          "base_uri": "https://localhost:8080/",
          "height": 69
        }
      },
      "source": [
        "# 15. Faça um Programa que pergunte quanto você ganha por hora e o número de horas trabalhadas no mês. \n",
        "#Calcule e mostre o total do seu salário no referido mês, \n",
        "#sabendo-se que são descontados 11% para o Imposto de Renda, \n",
        "#8% para o INSS e 5% para o sindicato, \n",
        "#faça um programa que nos dê:\n",
        "#salário bruto.\n",
        "#quanto pagou ao INSS.\n",
        "#quanto pagou ao sindicato.\n",
        "#o salário líquido.\n",
        "#calcule os descontos e o salário líquido, conforme a tabela abaixo:\n",
        "ganho_por_hora = float(input('Quanto você ganha por hora? '))\n",
        "número_de_horas = float(input('Quantas horas você trabalhou? '))\n",
        "salário_bruto = ganho_por_hora*número_de_horas\n",
        "INSS = salário_bruto*0.08\n",
        "sindicato = salário_bruto*0.05\n",
        "salário_líquido = salário_bruto*0.87\n",
        "print('Salário referido no mês é: '+ str(salário_líquido))"
      ],
      "execution_count": null,
      "outputs": [
        {
          "output_type": "stream",
          "text": [
            "Quanto você ganha por hora? 50\n",
            "Quantas horas você trabalhou? 10\n",
            "Salário referido no mês é: 435.0\n"
          ],
          "name": "stdout"
        }
      ]
    },
    {
      "cell_type": "code",
      "metadata": {
        "id": "JTFF83Ot7uFQ",
        "outputId": "141a2b2a-8369-4502-842e-bc96820f79b2",
        "colab": {
          "base_uri": "https://localhost:8080/",
          "height": 52
        }
      },
      "source": [
        "#16.  Faça um programa para uma loja de tintas. \n",
        "#O programa deverá pedir o tamanho em metros quadrados da área a ser pintada.\n",
        " #Considere que a cobertura da tinta é de 1 litro para cada 3 metros quadrados \n",
        "# que a tinta é vendida em latas de 18 litros, que custam R$ 80,00. \n",
        "#Informe ao usuário a quantidades de latas de tinta a serem compradas e o preço total.\n",
        "metros_quadrados = float(input(\"Quantos metros quadrados? \"))\n",
        "cobertura_litros = metros_quadrados/3\n",
        "qtd_latas = (cobertura_litros*80)/18\n",
        "preço_total = qtd_latas*80\n",
        "print('Você precisa de '+ str(qtd_latas)+' latas e vai gastar '+str(preço_total)+' reais')"
      ],
      "execution_count": null,
      "outputs": [
        {
          "output_type": "stream",
          "text": [
            "Quantos metros quadrados? 50\n",
            "Você precisa de 74.07407407407408 latas e vai gastar 5925.925925925926 reais\n"
          ],
          "name": "stdout"
        }
      ]
    },
    {
      "cell_type": "code",
      "metadata": {
        "id": "Ap5-dFOD-l3Y",
        "outputId": "4c81a3c8-ceb8-4c13-ba68-20a580e06e55",
        "colab": {
          "base_uri": "https://localhost:8080/",
          "height": 86
        }
      },
      "source": [
        "#17. Faça um Programa para uma loja de tintas. O programa deverá pedir o tamanho em metros quadrados da área a ser pintada. Considere que a cobertura da tinta é de 1 litro para cada 6 metros quadrados e que a tinta é vendida em latas de 18 litros, que custam R$ 80,00 ou em galões de 3,6 litros, que custam R$ 25,00.\n",
        "#Informe ao usuário as quantidades de tinta a serem compradas e os respectivos preços em 3 situações:\n",
        "#comprar apenas latas de 18 litros;\n",
        "#comprar apenas galões de 3,6 litros;\n",
        "#misturar latas e galões, de forma que o desperdício de tinta seja menor. Acrescente 10% de folga e sempre arredonde os valores para cima, isto é, considere latas cheias.\n",
        "metros_quadrados = float(input(\"Quantos metros quadrados? \"))\n",
        "cobertura_litros = metros_quadrados/6\n",
        "qtd_latas = (cobertura_litros*80)//18 + 1\n",
        "qtd_latas_02 = (cobertura_litros*25)//3.6 + 1\n",
        "mistura = (cobertura_litros*105)//22\n",
        "preço_total_caso_1 = qtd_latas*80\n",
        "preço_total_caso_2 = qtd_latas_02*25\n",
        "preço_total_caso_3 = mistura*105\n",
        "print('No primeiro caso. Você precisa de '+ str(qtd_latas)+' latas e vai gastar '+str(preço_total_caso_1)+' reais')\n",
        "print('No segundo caso. Você precisa de '+ str(qtd_latas_02)+' latas e vai gastar '+str(preço_total_caso_2)+ ' reais')\n",
        "print('No terceiro caso. Você precisa de '+ str(mistura)+' latas e e galões (1 de cada) e '+str(preço_total_caso_3)+ ' reais')\n"
      ],
      "execution_count": null,
      "outputs": [
        {
          "output_type": "stream",
          "text": [
            "Quantos metros quadrados? 50\n",
            "No primeiro caso. Você precisa de 38.0 latas e vai gastar 3040.0 reais\n",
            "No segundo caso. Você precisa de 58.0 latas e vai gastar 1450.0 reais\n",
            "No terceiro caso. Você precisa de 39.0 latas e e galões (1 de cada) e 4095.0 reais\n"
          ],
          "name": "stdout"
        }
      ]
    },
    {
      "cell_type": "code",
      "metadata": {
        "id": "UKLcmqlQFhnB",
        "outputId": "2473b0c3-b999-4739-9b80-057d4594846c",
        "colab": {
          "base_uri": "https://localhost:8080/",
          "height": 69
        }
      },
      "source": [
        "# Faça um programa que peça o tamanho de um arquivo para download (em MB) e a velocidade de um link de Internet (em Mbps), calcule e informe o tempo aproximado de download do arquivo usando este link (em minutos).\n",
        "arquivo = float(input('Tamanho do arquivo? '))\n",
        "velocidade = float(input('velocidade da Internet? '))\n",
        "calculo = (arquivo/velocidade)/60\n",
        "print('Tempo aproximado de download '+ str(calculo) + ' minutos')\n"
      ],
      "execution_count": null,
      "outputs": [
        {
          "output_type": "stream",
          "text": [
            "Tamanho do arquivo? 600\n",
            "velocidade da Internet? 3\n",
            "Tempo aproximado de download 3.3333333333333335 minutos\n"
          ],
          "name": "stdout"
        }
      ]
    }
  ]
}